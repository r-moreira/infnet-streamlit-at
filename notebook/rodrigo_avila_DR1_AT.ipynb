{
 "cells": [
  {
   "cell_type": "markdown",
   "metadata": {},
   "source": [
    "# INFNET\n",
    "\n",
    "## Desenvolvimento Front-End com Python (com Streamlit) [24E3_1] - AT\n",
    "\n",
    "### Análise exploratória de Dados de Futebol"
   ]
  }
 ],
 "metadata": {
  "language_info": {
   "name": "python"
  }
 },
 "nbformat": 4,
 "nbformat_minor": 2
}
